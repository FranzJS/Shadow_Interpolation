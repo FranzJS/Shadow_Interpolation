{
 "cells": [
  {
   "cell_type": "code",
   "execution_count": 3,
   "id": "successful-findings",
   "metadata": {},
   "outputs": [
    {
     "name": "stderr",
     "output_type": "stream",
     "text": [
      "\u001b[32m\u001b[1m  Activating\u001b[22m\u001b[39m project at `~/Documents/Research/AG Eisert/Classical Representation of Parametrized Quantum States/shadow coding/shadow`\n"
     ]
    }
   ],
   "source": [
    "using Pkg\n",
    "Pkg.activate(\"shadow\")\n",
    "include(\"random_clifford.jl\")\n",
    "using LinearAlgebra"
   ]
  },
  {
   "cell_type": "markdown",
   "id": "regional-reading",
   "metadata": {},
   "source": [
    "We will explore the usage of the different functions in \"random_clifford.jl\". For theoretical background and further explanation of the algorithms, see https://arxiv.org/abs/2008.06011.\n",
    "\n",
    "The main functionality of \"random_cliford.jl\" is to provide a sampling scheme for random Clifford gates. To sample a random Clifford, we just have to pick the system size in qubits."
   ]
  },
  {
   "cell_type": "code",
   "execution_count": 13,
   "id": "afraid-agency",
   "metadata": {},
   "outputs": [
    {
     "data": {
      "text/plain": [
       "13-element Vector{Any}:\n",
       " (\"S\", 2)\n",
       " (\"CX\", 1, 2)\n",
       " (\"CX\", 2, 1)\n",
       " (\"CX\", 1, 2)\n",
       " (\"H\", 1)\n",
       " (\"H\", 2)\n",
       " (\"CX\", 1, 2)\n",
       " (\"H\", 1)\n",
       " (\"X\", 1)\n",
       " (\"S\", 2)\n",
       " (\"H\", 2)\n",
       " (\"S\", 2)\n",
       " (\"H\", 2)"
      ]
     },
     "execution_count": 13,
     "metadata": {},
     "output_type": "execute_result"
    }
   ],
   "source": [
    "n_qubits = 2\n",
    "random_clifford = sample_random_Clifford(n_qubits)"
   ]
  },
  {
   "cell_type": "markdown",
   "id": "textile-blanket",
   "metadata": {},
   "source": [
    "What we get is a list of tuples, each tuple detailing a gate from the generating set of the Cliffords (Hadamard $H$, Phase $S$, CX (CNOT) $CX$). The numbers datail which qubits the gates act on (for the $CX$-gate, the first qubit is the controll qubit). When executed in succession, these gates implement the random Clifford gate. We can also transform this list into an explicit matrix representation."
   ]
  },
  {
   "cell_type": "code",
   "execution_count": 14,
   "id": "worse-tender",
   "metadata": {},
   "outputs": [
    {
     "data": {
      "text/plain": [
       "4×4 Matrix{ComplexF64}:\n",
       " 2.29935e-17+2.29935e-17im  …   6.73463e-18+6.73463e-18im\n",
       "   -0.707107+0.707107im        -7.49511e-35+7.49511e-35im\n",
       " 6.73463e-18-6.73463e-18im      2.29935e-17-2.29935e-17im\n",
       " 7.49511e-35+7.49511e-35im         0.707107+0.707107im"
      ]
     },
     "execution_count": 14,
     "metadata": {},
     "output_type": "execute_result"
    }
   ],
   "source": [
    "matrix_representation = Clifford_circuit_to_matrix(random_clifford, n_qubits)"
   ]
  },
  {
   "cell_type": "markdown",
   "id": "german-archive",
   "metadata": {},
   "source": [
    "Note that this transformation is very slow and should ideally only be used for prototyping.\n",
    "\n",
    "To test that our algorithm works the way we intend to, we can check if all Gates are generated with equal probability. An easy (although not exhaustive) test is to count the Hadamard gates that occur when sampling the single qubit group (should be $\\frac{1}{24}$)."
   ]
  },
  {
   "cell_type": "code",
   "execution_count": 11,
   "id": "continent-pound",
   "metadata": {},
   "outputs": [
    {
     "name": "stdout",
     "output_type": "stream",
     "text": [
      "expected ration:0.041666666666666664\n",
      "observed ratio:0.041691\n"
     ]
    }
   ],
   "source": [
    "n_qubits = 1\n",
    "H = 1/sqrt(2)*[1 1;1 -1]\n",
    "samples = 1_000_000\n",
    "cnt = 0\n",
    "\n",
    "Threads.@threads for i in 1:samples # embarrassingly parallel\n",
    "    global H\n",
    "    global cnt\n",
    "    local x\n",
    "    x = Clifford_circuit_to_matrix(sample_random_Clifford(n_qubits), n_qubits)\n",
    "    if norm(x-H) < 1e-10 \n",
    "        cnt += 1\n",
    "    end\n",
    "end\n",
    "\n",
    "println(\"expected ration:\", 1/number_of_Cliffords(n_qubits))\n",
    "println(\"observed ratio:\", cnt/samples)"
   ]
  },
  {
   "cell_type": "markdown",
   "id": "industrial-chapter",
   "metadata": {},
   "source": [
    "Now we will go in more depth through the details of the implementation.\n",
    "First, we will get accustomed with the bit representation of a Pauli string. Since $XZ = -iY$, we can represent a Pauli string via two bitstrings $x,z$\n",
    "\\begin{align}\n",
    "    P(x,y) = \\prod_{j=1}^n i^{x_j z_j} X_j Z_j\n",
    "\\end{align}\n",
    "where $X_j$ applies $X$ on the $j$'th qubit and identities on all other qubits ($Z_j$ is defined likewise). \n",
    "\n",
    "We thus represent a Pauli string as a BitArray [x, z]. Some examples:"
   ]
  },
  {
   "cell_type": "code",
   "execution_count": 8,
   "id": "loved-amateur",
   "metadata": {},
   "outputs": [],
   "source": [
    "XZX = BitArray([1 0 1; 0 1 0])\n",
    "XYX = BitArray([1 1 1; 0 1 0])\n",
    "XYZ = BitArray([1 1 0; 0 1 1]);"
   ]
  },
  {
   "cell_type": "markdown",
   "id": "least-upset",
   "metadata": {},
   "source": [
    "Note that we do not care about phase at this point, this is due to a technical reason which we'll point out later. In principle, one can also use an additional bit $s$ to include a phase as $(-1)^s$."
   ]
  },
  {
   "cell_type": "code",
   "execution_count": null,
   "id": "neutral-gentleman",
   "metadata": {},
   "outputs": [],
   "source": [
    "# ToDo: Continue..."
   ]
  },
  {
   "cell_type": "code",
   "execution_count": null,
   "id": "dangerous-tucson",
   "metadata": {},
   "outputs": [],
   "source": []
  }
 ],
 "metadata": {
  "kernelspec": {
   "display_name": "Julia (6 threads) 1.7.2",
   "language": "julia",
   "name": "julia-(6-threads)-1.7"
  },
  "language_info": {
   "file_extension": ".jl",
   "mimetype": "application/julia",
   "name": "julia",
   "version": "1.7.2"
  }
 },
 "nbformat": 4,
 "nbformat_minor": 5
}
